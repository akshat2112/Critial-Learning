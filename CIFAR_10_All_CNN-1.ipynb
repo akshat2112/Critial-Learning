{
 "cells": [
  {
   "cell_type": "code",
   "execution_count": 1,
   "metadata": {
    "id": "izPT_K8sRUFe"
   },
   "outputs": [
    {
     "name": "stderr",
     "output_type": "stream",
     "text": [
      "/storage/home/hcocice1/anair319/.conda/envs/sp/lib/python3.9/site-packages/torchvision/io/image.py:13: UserWarning: Failed to load image Python extension: /lib64/libz.so.1: version `ZLIB_1.2.9' not found (required by /storage/home/hcocice1/anair319/.conda/envs/sp/lib/python3.9/site-packages/torchvision/../../../libpng16.so.16)\n",
      "  warn(f\"Failed to load image Python extension: {e}\")\n"
     ]
    }
   ],
   "source": [
    "import torch\n",
    "import torch.nn as nn\n",
    "import torchvision\n",
    "import torchvision.transforms as transforms\n",
    "from torchvision.transforms.functional import InterpolationMode\n",
    "import matplotlib.pyplot as plt\n",
    "import numpy as np\n",
    "import torch.nn.functional as F"
   ]
  },
  {
   "cell_type": "code",
   "execution_count": 2,
   "metadata": {
    "colab": {
     "base_uri": "https://localhost:8080/"
    },
    "id": "_LoFTPkk_HMu",
    "outputId": "af3f2040-86da-4f4f-df0a-711afa9f3a94"
   },
   "outputs": [
    {
     "data": {
      "text/plain": [
       "device(type='cuda')"
      ]
     },
     "execution_count": 2,
     "metadata": {},
     "output_type": "execute_result"
    }
   ],
   "source": [
    "# Device configuration\n",
    "device = torch.device('cuda' if torch.cuda.is_available() else 'cpu')\n",
    "device"
   ]
  },
  {
   "cell_type": "code",
   "execution_count": 3,
   "metadata": {},
   "outputs": [],
   "source": [
    "load_from_chkpt = True # Load from checkpoint in case of resuming training"
   ]
  },
  {
   "cell_type": "code",
   "execution_count": 4,
   "metadata": {
    "colab": {
     "base_uri": "https://localhost:8080/",
     "height": 102,
     "referenced_widgets": [
      "ebe265266f174d1cbee860e8ba4681d6",
      "5a57cf595789487991d2160c2c756e16",
      "42169e65d8b348e1b7571bd857d35121",
      "7d8c521b1e93440fa382f3205688df4c",
      "91e0cb15346342ef803ab724927a5045",
      "fb92c28c2ebe4b63ab23b1aa36fe0ff3",
      "2d4be4ffe46e422abda47318c8e6ebc0",
      "73044d7fc152463488f32f6c0cf4e687",
      "791e02267eb84006a020029d40d3f037",
      "f858fcc0d16f459087577041d8af7a81",
      "fcb12b772f9840b4b783ab83d65fc476"
     ]
    },
    "id": "jtFbPo2LRg0e",
    "outputId": "f34d323b-7912-48dd-881a-a6c600730a81"
   },
   "outputs": [
    {
     "name": "stdout",
     "output_type": "stream",
     "text": [
      "Files already downloaded and verified\n",
      "Files already downloaded and verified\n"
     ]
    }
   ],
   "source": [
    "transform = transforms.Compose([transforms.RandomCrop(32, padding=4),\n",
    "                                transforms.RandomHorizontalFlip(),\n",
    "                                transforms.ToTensor(),\n",
    "                                transforms.Normalize((0.4914, 0.4822, 0.4465), (0.2023, 0.1994, 0.2010))])\n",
    "transform_blur = transforms.Compose([\n",
    "                                     transforms.Resize((8,8)),\n",
    "                                     transforms.Resize((32,32),interpolation=InterpolationMode.BILINEAR),\n",
    "                                     transforms.RandomCrop(32, padding=4),\n",
    "                                     transforms.RandomHorizontalFlip(),\n",
    "                                     transforms.ToTensor(),\n",
    "                                     transforms.Normalize((0.4914, 0.4822, 0.4465), (0.2023, 0.1994, 0.2010))])\n",
    "\n",
    "# CIFAR 10 Dataset\n",
    "train_dataset_clean = torchvision.datasets.CIFAR10(root='./data/',\n",
    "                                             train=True, \n",
    "                                             transform=transform,\n",
    "                                             download=True)\n",
    "\n",
    "train_dataset_blur = torchvision.datasets.CIFAR10(root='./data/',\n",
    "                                             train=True, \n",
    "                                             transform=transform_blur,\n",
    "                                             download=True)\n",
    "\n",
    "test_dataset = torchvision.datasets.CIFAR10(root='./data/',\n",
    "                                            train=False, \n",
    "                                            transform=transform)\n",
    "\n",
    "classes = ('plane', 'car', 'bird', 'cat', 'deer',\n",
    "           'dog', 'frog', 'horse', 'ship', 'truck')"
   ]
  },
  {
   "cell_type": "code",
   "execution_count": 5,
   "metadata": {
    "id": "HonLDq8pARc3"
   },
   "outputs": [],
   "source": [
    "batch_size = 128\n",
    "\n",
    "train_loader_clean = torch.utils.data.DataLoader(dataset=train_dataset_clean,\n",
    "                                           batch_size=batch_size, \n",
    "                                           shuffle=True)\n",
    "\n",
    "train_loader_blur = torch.utils.data.DataLoader(dataset=train_dataset_blur,\n",
    "                                           batch_size=batch_size, \n",
    "                                           shuffle=True)\n",
    "\n",
    "test_loader = torch.utils.data.DataLoader(dataset=test_dataset,\n",
    "                                          batch_size=batch_size, \n",
    "                                          shuffle=False)"
   ]
  },
  {
   "cell_type": "code",
   "execution_count": 6,
   "metadata": {
    "id": "wXUXqxnMBpZe"
   },
   "outputs": [],
   "source": [
    "# def imshow(img, fig_title):\n",
    "#     # img = img / 2 + 0.5\n",
    "#     npimg = img.numpy()\n",
    "#     plt.imshow(np.transpose(npimg.squeeze()))\n",
    "#     plt.title(fig_title)\n",
    "#     plt.show()\n",
    "    \n",
    "\n",
    "\n",
    "# # get some random training images and show\n",
    "# dataiter_blur = iter(train_loader_blur)\n",
    "# images_blur, labels_blur = dataiter_blur.next()\n",
    "# imshow(torchvision.utils.make_grid(images_blur), \"Blurred images\")\n",
    "# # print(' '.join(f'{classes[labels_blur[j]]:5s}' for j in range(batch_size)))\n",
    "\n",
    "# dataiter_clean = iter(train_loader_clean)\n",
    "# images_clean, labels_clean = dataiter_clean.next()\n",
    "# imshow(torchvision.utils.make_grid(images_clean), \"Clean images\")\n",
    "# # print(' '.join(f'{classes[labels_clean[j]]:5s}' for j in range(batch_size)))"
   ]
  },
  {
   "cell_type": "code",
   "execution_count": 7,
   "metadata": {
    "id": "iZok3ghfT4pK"
   },
   "outputs": [],
   "source": [
    "class AllCNNNet(nn.Module):\n",
    "  def __init__(self):\n",
    "    super().__init__()\n",
    "    self.dp0 = nn.Dropout2d(p = 0.2)\n",
    "    self.conv1 = nn.Conv2d(3, 96, 3, padding=1)\n",
    "    self.conv2 = nn.Conv2d(96, 96, 3, padding=1)\n",
    "    self.conv3 = nn.Conv2d(96, 192, 3, stride=2, padding=1)\n",
    "    self.dp1 = nn.Dropout2d(p = 0.5)\n",
    "    self.conv4 = nn.Conv2d(192, 192, 3, padding=1)\n",
    "    self.conv5 = nn.Conv2d(192, 192, 3, padding=1)\n",
    "    self.conv6 = nn.Conv2d(192, 192, 3, stride=2, padding=1)\n",
    "    self.dp2 = nn.Dropout2d(p = 0.5)\n",
    "    self.conv7 = nn.Conv2d(192, 192, 3, padding=0)\n",
    "    self.conv8 = nn.Conv2d(192, 192, 1)\n",
    "    self.conv9 = nn.Conv2d(192, 10, 1)\n",
    "    self.avg = nn.AvgPool2d(6)\n",
    "\n",
    "    nn.init.xavier_normal_(self.conv1.weight)\n",
    "    nn.init.xavier_normal_(self.conv2.weight)\n",
    "    nn.init.xavier_normal_(self.conv3.weight)\n",
    "    nn.init.xavier_normal_(self.conv4.weight)\n",
    "    nn.init.xavier_normal_(self.conv5.weight)\n",
    "    nn.init.xavier_normal_(self.conv6.weight)\n",
    "    nn.init.xavier_normal_(self.conv7.weight)\n",
    "    nn.init.xavier_normal_(self.conv8.weight)\n",
    "    nn.init.xavier_normal_(self.conv9.weight)\n",
    "\n",
    "  def forward(self, x):\n",
    "    x = self.dp0(x)\n",
    "    x = F.relu(self.conv1(x))\n",
    "    x = F.relu(self.conv2(x))\n",
    "    x = F.relu(self.conv3(x))\n",
    "    x = self.dp1(x)\n",
    "    x = F.relu(self.conv4(x))\n",
    "    x = F.relu(self.conv5(x))\n",
    "    x = F.relu(self.conv6(x))\n",
    "    x = self.dp2(x)\n",
    "    x = F.relu(self.conv7(x))\n",
    "    x = F.relu(self.conv8(x))\n",
    "    x = F.relu(self.conv9(x))\n",
    "    x = self.avg(x)\n",
    "    x = torch.squeeze(x)\n",
    "    # x = F.softmax(x, dim=0)\n",
    "    return x\n",
    "\n",
    "net = AllCNNNet().to(device)"
   ]
  },
  {
   "cell_type": "code",
   "execution_count": 8,
   "metadata": {
    "id": "C_K2L2tFjbqF"
   },
   "outputs": [],
   "source": [
    "# class AllCNNNet(nn.Module):\n",
    "#   def __init__(self):\n",
    "#     super().__init__()\n",
    "#     self.conv1 = nn.Conv2d(3, 6, 5)\n",
    "#     self.pool = nn.MaxPool2d(2, 2)\n",
    "#     self.conv2 = nn.Conv2d(6, 16, 5)\n",
    "#     self.fc1 = nn.Linear(16*5*5, 120)\n",
    "#     self.fc2 = nn.Linear(120, 84)\n",
    "#     self.fc3 = nn.Linear(84, 10)\n",
    "\n",
    "#   def forward(self, x):\n",
    "#     x = self.pool(F.relu(self.conv1(x)))\n",
    "#     x = self.pool(F.relu(self.conv2(x)))\n",
    "#     x = torch.flatten(x, 1)\n",
    "#     x = F.relu(self.fc1(x))\n",
    "#     x = F.relu(self.fc2(x))\n",
    "#     x = self.fc3(x)\n",
    "#     return x\n",
    "\n",
    "# net = AllCNNNet().to(device)"
   ]
  },
  {
   "cell_type": "code",
   "execution_count": 9,
   "metadata": {
    "id": "EuN4qPtdLnc2"
   },
   "outputs": [],
   "source": [
    "# Hyper-parameters\n",
    "num_epochs_blur = 100\n",
    "num_epochs_clean = 160\n",
    "learning_rate = 0.05"
   ]
  },
  {
   "cell_type": "code",
   "execution_count": 10,
   "metadata": {
    "id": "We6ex2sWU_id"
   },
   "outputs": [],
   "source": [
    "criterion = nn.CrossEntropyLoss()\n",
    "optimizer = torch.optim.SGD(net.parameters(), lr=learning_rate, weight_decay=0.001, momentum=0.9, nesterov=True)\n",
    "# optimizer = torch.optim.Adam(net.parameters(), lr=learning_rate)"
   ]
  },
  {
   "cell_type": "code",
   "execution_count": 11,
   "metadata": {
    "colab": {
     "base_uri": "https://localhost:8080/"
    },
    "id": "exHtl5Wh5lOA",
    "outputId": "055b7562-3dbf-4978-fb1e-139183359ba3"
   },
   "outputs": [],
   "source": [
    "# from torchsummary import summary\n",
    "\n",
    "# summary(net, (3, 32, 32))"
   ]
  },
  {
   "cell_type": "code",
   "execution_count": 12,
   "metadata": {
    "id": "AcryIUcMXipz"
   },
   "outputs": [],
   "source": [
    "# For updating learning rate\n",
    "def update_lr(optimizer, lr):    \n",
    "#     print (\"Updating LR\")\n",
    "    for param_group in optimizer.param_groups:\n",
    "        param_group['lr'] = lr"
   ]
  },
  {
   "cell_type": "code",
   "execution_count": 13,
   "metadata": {
    "colab": {
     "base_uri": "https://localhost:8080/"
    },
    "id": "NJhnjtlrVMsQ",
    "outputId": "ac0a4507-7aad-4fd5-804b-14c2ddb336d7",
    "scrolled": true
   },
   "outputs": [
    {
     "name": "stdout",
     "output_type": "stream",
     "text": [
      "!!!Loaded from checkpoint!!! Epoch:225 Loss:0.5003505349159241 curr_lr:5.2797117707593594e-05\n",
      "Using clean\n",
      "Epoch [226/260], Step [100/391] Loss: 0.7008 LR: 0.0001\n",
      "Epoch [226/260], Step [200/391] Loss: 0.6590 LR: 0.0001\n",
      "Epoch [226/260], Step [300/391] Loss: 0.6247 LR: 0.0001\n",
      "Accuracy of the network : 76 %\n",
      "Using clean\n",
      "Epoch [227/260], Step [100/391] Loss: 0.5305 LR: 0.0001\n",
      "Epoch [227/260], Step [200/391] Loss: 0.4887 LR: 0.0001\n",
      "Epoch [227/260], Step [300/391] Loss: 0.5919 LR: 0.0001\n",
      "Accuracy of the network : 76 %\n",
      "Using clean\n",
      "Epoch [228/260], Step [100/391] Loss: 0.6928 LR: 0.0000\n",
      "Epoch [228/260], Step [200/391] Loss: 0.6254 LR: 0.0000\n",
      "Epoch [228/260], Step [300/391] Loss: 0.7156 LR: 0.0000\n",
      "Accuracy of the network : 76 %\n",
      "Using clean\n",
      "Epoch [229/260], Step [100/391] Loss: 0.6255 LR: 0.0000\n",
      "Epoch [229/260], Step [200/391] Loss: 0.5348 LR: 0.0000\n",
      "Epoch [229/260], Step [300/391] Loss: 0.5990 LR: 0.0000\n",
      "Accuracy of the network : 75 %\n",
      "Using clean\n",
      "Epoch [230/260], Step [100/391] Loss: 0.6017 LR: 0.0000\n",
      "Epoch [230/260], Step [200/391] Loss: 0.6473 LR: 0.0000\n",
      "Epoch [230/260], Step [300/391] Loss: 0.5351 LR: 0.0000\n",
      "Accuracy of the network : 76 %\n",
      "Using clean\n",
      "Epoch [231/260], Step [100/391] Loss: 0.5820 LR: 0.0000\n",
      "Epoch [231/260], Step [200/391] Loss: 0.5452 LR: 0.0000\n",
      "Epoch [231/260], Step [300/391] Loss: 0.5820 LR: 0.0000\n",
      "Accuracy of the network : 75 %\n",
      "Using clean\n",
      "Epoch [232/260], Step [100/391] Loss: 0.5596 LR: 0.0000\n",
      "Epoch [232/260], Step [200/391] Loss: 0.6366 LR: 0.0000\n",
      "Epoch [232/260], Step [300/391] Loss: 0.7843 LR: 0.0000\n",
      "Accuracy of the network : 75 %\n",
      "Using clean\n",
      "Epoch [233/260], Step [100/391] Loss: 0.5152 LR: 0.0000\n",
      "Epoch [233/260], Step [200/391] Loss: 0.4889 LR: 0.0000\n",
      "Epoch [233/260], Step [300/391] Loss: 0.5333 LR: 0.0000\n",
      "Accuracy of the network : 75 %\n",
      "Using clean\n",
      "Epoch [234/260], Step [100/391] Loss: 0.5569 LR: 0.0000\n",
      "Epoch [234/260], Step [200/391] Loss: 0.5729 LR: 0.0000\n",
      "Epoch [234/260], Step [300/391] Loss: 0.5887 LR: 0.0000\n",
      "Accuracy of the network : 75 %\n",
      "Using clean\n",
      "Epoch [235/260], Step [100/391] Loss: 0.6438 LR: 0.0000\n",
      "Epoch [235/260], Step [200/391] Loss: 0.7092 LR: 0.0000\n",
      "Epoch [235/260], Step [300/391] Loss: 0.6187 LR: 0.0000\n",
      "Accuracy of the network : 75 %\n",
      "Using clean\n",
      "Epoch [236/260], Step [100/391] Loss: 0.6279 LR: 0.0000\n",
      "Epoch [236/260], Step [200/391] Loss: 0.7456 LR: 0.0000\n",
      "Epoch [236/260], Step [300/391] Loss: 0.6534 LR: 0.0000\n",
      "Accuracy of the network : 76 %\n",
      "Using clean\n",
      "Epoch [237/260], Step [100/391] Loss: 0.6281 LR: 0.0000\n",
      "Epoch [237/260], Step [200/391] Loss: 0.6001 LR: 0.0000\n",
      "Epoch [237/260], Step [300/391] Loss: 0.6235 LR: 0.0000\n",
      "Accuracy of the network : 76 %\n",
      "Using clean\n",
      "Epoch [238/260], Step [100/391] Loss: 0.5308 LR: 0.0000\n",
      "Epoch [238/260], Step [200/391] Loss: 0.5095 LR: 0.0000\n",
      "Epoch [238/260], Step [300/391] Loss: 0.6393 LR: 0.0000\n",
      "Accuracy of the network : 76 %\n",
      "Using clean\n",
      "Epoch [239/260], Step [100/391] Loss: 0.6087 LR: 0.0000\n",
      "Epoch [239/260], Step [200/391] Loss: 0.6204 LR: 0.0000\n",
      "Epoch [239/260], Step [300/391] Loss: 0.6286 LR: 0.0000\n",
      "Accuracy of the network : 75 %\n",
      "Using clean\n",
      "Epoch [240/260], Step [100/391] Loss: 0.5702 LR: 0.0000\n",
      "Epoch [240/260], Step [200/391] Loss: 0.5359 LR: 0.0000\n",
      "Epoch [240/260], Step [300/391] Loss: 0.5683 LR: 0.0000\n",
      "Accuracy of the network : 76 %\n",
      "Using clean\n",
      "Epoch [241/260], Step [100/391] Loss: 0.5905 LR: 0.0000\n",
      "Epoch [241/260], Step [200/391] Loss: 0.6560 LR: 0.0000\n",
      "Epoch [241/260], Step [300/391] Loss: 0.7252 LR: 0.0000\n",
      "Accuracy of the network : 76 %\n",
      "Using clean\n",
      "Epoch [242/260], Step [100/391] Loss: 0.6270 LR: 0.0000\n",
      "Epoch [242/260], Step [200/391] Loss: 0.6315 LR: 0.0000\n",
      "Epoch [242/260], Step [300/391] Loss: 0.6744 LR: 0.0000\n",
      "Accuracy of the network : 75 %\n",
      "Using clean\n",
      "Epoch [243/260], Step [100/391] Loss: 0.5936 LR: 0.0000\n",
      "Epoch [243/260], Step [200/391] Loss: 0.5754 LR: 0.0000\n",
      "Epoch [243/260], Step [300/391] Loss: 0.6975 LR: 0.0000\n",
      "Accuracy of the network : 75 %\n",
      "Using clean\n",
      "Epoch [244/260], Step [100/391] Loss: 0.5380 LR: 0.0000\n",
      "Epoch [244/260], Step [200/391] Loss: 0.6436 LR: 0.0000\n",
      "Epoch [244/260], Step [300/391] Loss: 0.5249 LR: 0.0000\n",
      "Accuracy of the network : 75 %\n",
      "Using clean\n",
      "Epoch [245/260], Step [100/391] Loss: 0.4827 LR: 0.0000\n",
      "Epoch [245/260], Step [200/391] Loss: 0.6361 LR: 0.0000\n",
      "Epoch [245/260], Step [300/391] Loss: 0.6300 LR: 0.0000\n",
      "Accuracy of the network : 75 %\n",
      "Using clean\n",
      "Epoch [246/260], Step [100/391] Loss: 0.6624 LR: 0.0000\n",
      "Epoch [246/260], Step [200/391] Loss: 0.7892 LR: 0.0000\n",
      "Epoch [246/260], Step [300/391] Loss: 0.5171 LR: 0.0000\n",
      "Accuracy of the network : 76 %\n",
      "Using clean\n",
      "Epoch [247/260], Step [100/391] Loss: 0.6158 LR: 0.0000\n",
      "Epoch [247/260], Step [200/391] Loss: 0.7200 LR: 0.0000\n",
      "Epoch [247/260], Step [300/391] Loss: 0.5892 LR: 0.0000\n",
      "Accuracy of the network : 76 %\n",
      "Using clean\n",
      "Epoch [248/260], Step [100/391] Loss: 0.4459 LR: 0.0000\n",
      "Epoch [248/260], Step [200/391] Loss: 0.6234 LR: 0.0000\n",
      "Epoch [248/260], Step [300/391] Loss: 0.4925 LR: 0.0000\n",
      "Accuracy of the network : 76 %\n",
      "Using clean\n",
      "Epoch [249/260], Step [100/391] Loss: 0.6058 LR: 0.0000\n",
      "Epoch [249/260], Step [200/391] Loss: 0.5969 LR: 0.0000\n",
      "Epoch [249/260], Step [300/391] Loss: 0.5045 LR: 0.0000\n",
      "Accuracy of the network : 76 %\n",
      "Using clean\n",
      "Epoch [250/260], Step [100/391] Loss: 0.5355 LR: 0.0000\n",
      "Epoch [250/260], Step [200/391] Loss: 0.5342 LR: 0.0000\n",
      "Epoch [250/260], Step [300/391] Loss: 0.4616 LR: 0.0000\n",
      "Accuracy of the network : 75 %\n",
      "!!!Checkpoint saved!!!\n",
      "Using clean\n",
      "Epoch [251/260], Step [100/391] Loss: 0.6325 LR: 0.0000\n",
      "Epoch [251/260], Step [200/391] Loss: 0.6283 LR: 0.0000\n",
      "Epoch [251/260], Step [300/391] Loss: 0.5882 LR: 0.0000\n",
      "Accuracy of the network : 76 %\n",
      "Using clean\n",
      "Epoch [252/260], Step [100/391] Loss: 0.6181 LR: 0.0000\n",
      "Epoch [252/260], Step [200/391] Loss: 0.6463 LR: 0.0000\n",
      "Epoch [252/260], Step [300/391] Loss: 0.5618 LR: 0.0000\n",
      "Accuracy of the network : 76 %\n",
      "Using clean\n",
      "Epoch [253/260], Step [100/391] Loss: 0.4709 LR: 0.0000\n",
      "Epoch [253/260], Step [200/391] Loss: 0.6820 LR: 0.0000\n",
      "Epoch [253/260], Step [300/391] Loss: 0.7026 LR: 0.0000\n",
      "Accuracy of the network : 76 %\n",
      "Using clean\n",
      "Epoch [254/260], Step [100/391] Loss: 0.6244 LR: 0.0000\n",
      "Epoch [254/260], Step [200/391] Loss: 0.4668 LR: 0.0000\n",
      "Epoch [254/260], Step [300/391] Loss: 0.5515 LR: 0.0000\n",
      "Accuracy of the network : 75 %\n",
      "Using clean\n",
      "Epoch [255/260], Step [100/391] Loss: 0.6341 LR: 0.0000\n",
      "Epoch [255/260], Step [200/391] Loss: 0.4614 LR: 0.0000\n",
      "Epoch [255/260], Step [300/391] Loss: 0.7413 LR: 0.0000\n",
      "Accuracy of the network : 75 %\n",
      "Using clean\n",
      "Epoch [256/260], Step [100/391] Loss: 0.5983 LR: 0.0000\n",
      "Epoch [256/260], Step [200/391] Loss: 0.7129 LR: 0.0000\n",
      "Epoch [256/260], Step [300/391] Loss: 0.5590 LR: 0.0000\n",
      "Accuracy of the network : 75 %\n",
      "Using clean\n",
      "Epoch [257/260], Step [100/391] Loss: 0.6158 LR: 0.0000\n",
      "Epoch [257/260], Step [200/391] Loss: 0.4902 LR: 0.0000\n",
      "Epoch [257/260], Step [300/391] Loss: 0.5764 LR: 0.0000\n",
      "Accuracy of the network : 75 %\n",
      "Using clean\n",
      "Epoch [258/260], Step [100/391] Loss: 0.4710 LR: 0.0000\n",
      "Epoch [258/260], Step [200/391] Loss: 0.6791 LR: 0.0000\n",
      "Epoch [258/260], Step [300/391] Loss: 0.6634 LR: 0.0000\n",
      "Accuracy of the network : 76 %\n",
      "Using clean\n",
      "Epoch [259/260], Step [100/391] Loss: 0.6211 LR: 0.0000\n",
      "Epoch [259/260], Step [200/391] Loss: 0.6213 LR: 0.0000\n",
      "Epoch [259/260], Step [300/391] Loss: 0.5395 LR: 0.0000\n",
      "Accuracy of the network : 75 %\n",
      "Using clean\n",
      "Epoch [260/260], Step [100/391] Loss: 0.6376 LR: 0.0000\n",
      "Epoch [260/260], Step [200/391] Loss: 0.5086 LR: 0.0000\n",
      "Epoch [260/260], Step [300/391] Loss: 0.6350 LR: 0.0000\n",
      "Accuracy of the network : 75 %\n",
      "Finished Training\n"
     ]
    }
   ],
   "source": [
    "num_epochs = num_epochs_blur + num_epochs_clean\n",
    "total_step = len(train_loader_clean)\n",
    "curr_lr = learning_rate\n",
    "loss_plot = []\n",
    "accuracy_plot = []\n",
    "epoch_chkpt = 0\n",
    "\n",
    "if(load_from_chkpt):\n",
    "  # Load model from checkpoint\n",
    "  path_chkpt = \"./chkpt_2/model.pt\"\n",
    "  loss_plot_chkpt = \"./chkpt_2/loss_plot.npy\"\n",
    "  acc_plot_chkpt = \"./chkpt_2/acc_plot.npy\"\n",
    "  model = net\n",
    "#   optimizer = torch.optim.SGD(net.parameters(), lr=learning_rate, weight_decay=0.001, momentum=0.9, nesterov=True)\n",
    "\n",
    "  checkpoint = torch.load(path_chkpt)\n",
    "  model.load_state_dict(checkpoint['model_state_dict'])\n",
    "  optimizer.load_state_dict(checkpoint['optimizer_state_dict'])\n",
    "  epoch_chkpt = checkpoint['epoch']\n",
    "  loss = checkpoint['loss']\n",
    "  curr_lr = checkpoint['curr_lr']\n",
    "  loss_plot = np.append(loss_plot, np.load(loss_plot_chkpt))\n",
    "  accuracy_plot = np.append(accuracy_plot, np.load(acc_plot_chkpt))\n",
    "\n",
    "  model.train()\n",
    "  print(\"!!!Loaded from checkpoint!!! Epoch:{} Loss:{} curr_lr:{}\".format(epoch_chkpt, loss, curr_lr))\n",
    "\n",
    "for epoch in range(epoch_chkpt, num_epochs):  # loop over the dataset multiple times\n",
    "  if epoch < num_epochs_blur:\n",
    "    train_loader = train_loader_blur\n",
    "    print(\"Using blur\")\n",
    "  else:\n",
    "    train_loader = train_loader_clean\n",
    "    print(\"Using clean\")\n",
    "\n",
    "  # running_loss = 0.0\n",
    "  for i, (inputs, labels) in enumerate(train_loader):\n",
    "      inputs = inputs.to(device)\n",
    "      labels = labels.to(device)\n",
    "\n",
    "      # forward + backward + optimize\n",
    "      outputs = net(inputs)\n",
    "      loss = criterion(outputs, labels)\n",
    "\n",
    "      # zero the parameter gradients\n",
    "      optimizer.zero_grad()\n",
    "      loss.backward()\n",
    "\n",
    "\n",
    "      optimizer.step()\n",
    "      loss_plot = np.append(loss_plot, loss.item())\n",
    "\n",
    "      if (i+1) % 100 == 0:\n",
    "        print (\"Epoch [{}/{}], Step [{}/{}] Loss: {:.4f} LR: {:.4f}\"\n",
    "                .format(epoch+1, num_epochs, i+1, total_step, loss.item(), curr_lr))\n",
    "\n",
    "  # Decay learning rate\n",
    "  curr_lr = 0.97 * curr_lr\n",
    "  update_lr(optimizer, curr_lr)\n",
    "\n",
    "  correct = 0\n",
    "  total = 0\n",
    "  # since we're not training, we don't need to calculate the gradients for our outputs\n",
    "  with torch.no_grad():\n",
    "      for data in test_loader:\n",
    "          images, labels = data\n",
    "          images = images.to(device)\n",
    "          labels = labels.to(device)\n",
    "          # calculate outputs by running images through the network\n",
    "          outputs = net(images)\n",
    "          # the class with the highest energy is what we choose as prediction\n",
    "          _, predicted = torch.max(outputs.data, 1)\n",
    "          total += labels.size(0)\n",
    "          correct += (predicted == labels).sum().item()\n",
    "\n",
    "  accuracy_temp = 100 * correct // total\n",
    "  print(f'Accuracy of the network : {accuracy_temp} %')\n",
    "  accuracy_plot = np.append(accuracy_plot, accuracy_temp)\n",
    "\n",
    "  if (epoch+1)==2 or (epoch+1)%25==0:\n",
    "    # Save model checkpoint\n",
    "    epoch_chkpt = epoch+1\n",
    "    path_chkpt = \"./chkpt_2/model.pt\"\n",
    "    loss_plot_chkpt = './chkpt_2/loss_plot.npy'\n",
    "    acc_plot_chkpt = './chkpt_2/acc_plot.npy'\n",
    "    loss_chkpt = loss.item()\n",
    "\n",
    "    torch.save({\n",
    "                'epoch': epoch_chkpt,\n",
    "                'model_state_dict': net.state_dict(),\n",
    "                'optimizer_state_dict': optimizer.state_dict(),\n",
    "                'loss': loss_chkpt,\n",
    "                'curr_lr': curr_lr,\n",
    "                }, path_chkpt)\n",
    "    np.save(loss_plot_chkpt, loss_plot)\n",
    "    np.save(acc_plot_chkpt, accuracy_plot)\n",
    "    print('!!!Checkpoint saved!!!')\n",
    "\n",
    "print('Finished Training')"
   ]
  },
  {
   "cell_type": "code",
   "execution_count": 14,
   "metadata": {
    "colab": {
     "base_uri": "https://localhost:8080/",
     "height": 265
    },
    "id": "6h9JVHX45WKh",
    "outputId": "e8a8acce-58e4-4723-ad2a-97b0e5e617f4"
   },
   "outputs": [
    {
     "data": {
      "image/png": "[encoded data removed]",
      "text/plain": [
       "<Figure size 432x288 with 1 Axes>"
      ]
     },
     "metadata": {
      "needs_background": "light"
     },
     "output_type": "display_data"
    }
   ],
   "source": [
    "plt.plot(accuracy_plot)\n",
    "plt.show()"
   ]
  },
  {
   "cell_type": "code",
   "execution_count": 15,
   "metadata": {
    "colab": {
     "base_uri": "https://localhost:8080/",
     "height": 265
    },
    "id": "gKz9k59mgawM",
    "outputId": "676a2fa5-311f-43cf-8668-2490e981ad9e"
   },
   "outputs": [
    {
     "data": {
      "image/png": "[encoded data removed]",
      "text/plain": [
       "<Figure size 432x288 with 1 Axes>"
      ]
     },
     "metadata": {
      "needs_background": "light"
     },
     "output_type": "display_data"
    }
   ],
   "source": [
    "plt.plot(loss_plot)\n",
    "plt.show()"
   ]
  },
  {
   "cell_type": "code",
   "execution_count": 16,
   "metadata": {
    "id": "SzZXAApB-cHL"
   },
   "outputs": [],
   "source": [
    "PATH = './cifar_net_2.pth'\n",
    "torch.save(net.state_dict(), PATH)"
   ]
  },
  {
   "cell_type": "code",
   "execution_count": 17,
   "metadata": {},
   "outputs": [],
   "source": [
    "np.save('./acc_2.npy', accuracy_plot)\n",
    "np.save('./loss_2.npy', loss_plot)"
   ]
  },
  {
   "cell_type": "code",
   "execution_count": 18,
   "metadata": {},
   "outputs": [
    {
     "data": {
      "image/png": "[encoded data removed]",
      "text/plain": [
       "<Figure size 432x288 with 1 Axes>"
      ]
     },
     "metadata": {
      "needs_background": "light"
     },
     "output_type": "display_data"
    }
   ],
   "source": [
    "acc_data = np.load('./acc_2.npy')\n",
    "plt.plot(acc_data)\n",
    "plt.show()"
   ]
  },
  {
   "cell_type": "code",
   "execution_count": 19,
   "metadata": {},
   "outputs": [
    {
     "data": {
      "image/png": "[encoded data removed]",
      "text/plain": [
       "<Figure size 432x288 with 1 Axes>"
      ]
     },
     "metadata": {
      "needs_background": "light"
     },
     "output_type": "display_data"
    }
   ],
   "source": [
    "loss_data = np.load('./loss_2.npy')\n",
    "plt.plot(loss_data)\n",
    "plt.show()"
   ]
  },
  {
   "cell_type": "code",
   "execution_count": 20,
   "metadata": {
    "colab": {
     "base_uri": "https://localhost:8080/"
    },
    "id": "KkKiaV67-yAI",
    "outputId": "c9e114a8-8d70-42f5-a4d7-584d7338aeb2"
   },
   "outputs": [
    {
     "name": "stdout",
     "output_type": "stream",
     "text": [
      "Accuracy for class: plane is 82.0 %\n",
      "Accuracy for class: car   is 86.7 %\n",
      "Accuracy for class: bird  is 64.8 %\n",
      "Accuracy for class: cat   is 58.6 %\n",
      "Accuracy for class: deer  is 72.8 %\n",
      "Accuracy for class: dog   is 65.7 %\n",
      "Accuracy for class: frog  is 82.0 %\n",
      "Accuracy for class: horse is 78.2 %\n",
      "Accuracy for class: ship  is 86.6 %\n",
      "Accuracy for class: truck is 83.6 %\n"
     ]
    }
   ],
   "source": [
    "# prepare to count predictions for each class\n",
    "correct_pred = {classname: 0 for classname in classes}\n",
    "total_pred = {classname: 0 for classname in classes}\n",
    "\n",
    "# again no gradients needed\n",
    "with torch.no_grad():\n",
    "    for data in test_loader:\n",
    "        images, labels = data\n",
    "        images = images.to(device)\n",
    "        labels = labels.to(device)\n",
    "        outputs = net(images)\n",
    "        _, predictions = torch.max(outputs, 1)\n",
    "        # collect the correct predictions for each class\n",
    "        for label, prediction in zip(labels, predictions):\n",
    "            if label == prediction:\n",
    "                correct_pred[classes[label]] += 1\n",
    "            total_pred[classes[label]] += 1\n",
    "\n",
    "\n",
    "# print accuracy for each class\n",
    "for classname, correct_count in correct_pred.items():\n",
    "    accuracy = 100 * float(correct_count) / total_pred[classname]\n",
    "    print(f'Accuracy for class: {classname:5s} is {accuracy:.1f} %')"
   ]
  }
 ],
 "metadata": {
  "accelerator": "GPU",
  "colab": {
   "name": "CIFAR-10 All-CNN.ipynb",
   "provenance": []
  },
  "kernelspec": {
   "display_name": "Python 3 (ipykernel)",
   "language": "python",
   "name": "python3"
  },
  "language_info": {
   "codemirror_mode": {
    "name": "ipython",
    "version": 3
   },
   "file_extension": ".py",
   "mimetype": "text/x-python",
   "name": "python",
   "nbconvert_exporter": "python",
   "pygments_lexer": "ipython3",
   "version": "3.9.12"
  },
  "widgets": {
   "application/vnd.jupyter.widget-state+json": {
    "2d4be4ffe46e422abda47318c8e6ebc0": {
     "model_module": "@jupyter-widgets/controls",
     "model_module_version": "1.5.0",
     "model_name": "DescriptionStyleModel",
     "state": {
      "_model_module": "@jupyter-widgets/controls",
      "_model_module_version": "1.5.0",
      "_model_name": "DescriptionStyleModel",
      "_view_count": null,
      "_view_module": "@jupyter-widgets/base",
      "_view_module_version": "1.2.0",
      "_view_name": "StyleView",
      "description_width": ""
     }
    },
    "42169e65d8b348e1b7571bd857d35121": {
     "model_module": "@jupyter-widgets/controls",
     "model_module_version": "1.5.0",
     "model_name": "FloatProgressModel",
     "state": {
      "_dom_classes": [],
      "_model_module": "@jupyter-widgets/controls",
      "_model_module_version": "1.5.0",
      "_model_name": "FloatProgressModel",
      "_view_count": null,
      "_view_module": "@jupyter-widgets/controls",
      "_view_module_version": "1.5.0",
      "_view_name": "ProgressView",
      "bar_style": "success",
      "description": "",
      "description_tooltip": null,
      "layout": "IPY_MODEL_73044d7fc152463488f32f6c0cf4e687",
      "max": 170498071,
      "min": 0,
      "orientation": "horizontal",
      "style": "IPY_MODEL_791e02267eb84006a020029d40d3f037",
      "value": 170498071
     }
    },
    "5a57cf595789487991d2160c2c756e16": {
     "model_module": "@jupyter-widgets/controls",
     "model_module_version": "1.5.0",
     "model_name": "HTMLModel",
     "state": {
      "_dom_classes": [],
      "_model_module": "@jupyter-widgets/controls",
      "_model_module_version": "1.5.0",
      "_model_name": "HTMLModel",
      "_view_count": null,
      "_view_module": "@jupyter-widgets/controls",
      "_view_module_version": "1.5.0",
      "_view_name": "HTMLView",
      "description": "",
      "description_tooltip": null,
      "layout": "IPY_MODEL_fb92c28c2ebe4b63ab23b1aa36fe0ff3",
      "placeholder": "​",
      "style": "IPY_MODEL_2d4be4ffe46e422abda47318c8e6ebc0",
      "value": ""
     }
    },
    "73044d7fc152463488f32f6c0cf4e687": {
     "model_module": "@jupyter-widgets/base",
     "model_module_version": "1.2.0",
     "model_name": "LayoutModel",
     "state": {
      "_model_module": "@jupyter-widgets/base",
      "_model_module_version": "1.2.0",
      "_model_name": "LayoutModel",
      "_view_count": null,
      "_view_module": "@jupyter-widgets/base",
      "_view_module_version": "1.2.0",
      "_view_name": "LayoutView",
      "align_content": null,
      "align_items": null,
      "align_self": null,
      "border": null,
      "bottom": null,
      "display": null,
      "flex": null,
      "flex_flow": null,
      "grid_area": null,
      "grid_auto_columns": null,
      "grid_auto_flow": null,
      "grid_auto_rows": null,
      "grid_column": null,
      "grid_gap": null,
      "grid_row": null,
      "grid_template_areas": null,
      "grid_template_columns": null,
      "grid_template_rows": null,
      "height": null,
      "justify_content": null,
      "justify_items": null,
      "left": null,
      "margin": null,
      "max_height": null,
      "max_width": null,
      "min_height": null,
      "min_width": null,
      "object_fit": null,
      "object_position": null,
      "order": null,
      "overflow": null,
      "overflow_x": null,
      "overflow_y": null,
      "padding": null,
      "right": null,
      "top": null,
      "visibility": null,
      "width": null
     }
    },
    "791e02267eb84006a020029d40d3f037": {
     "model_module": "@jupyter-widgets/controls",
     "model_module_version": "1.5.0",
     "model_name": "ProgressStyleModel",
     "state": {
      "_model_module": "@jupyter-widgets/controls",
      "_model_module_version": "1.5.0",
      "_model_name": "ProgressStyleModel",
      "_view_count": null,
      "_view_module": "@jupyter-widgets/base",
      "_view_module_version": "1.2.0",
      "_view_name": "StyleView",
      "bar_color": null,
      "description_width": ""
     }
    },
    "7d8c521b1e93440fa382f3205688df4c": {
     "model_module": "@jupyter-widgets/controls",
     "model_module_version": "1.5.0",
     "model_name": "HTMLModel",
     "state": {
      "_dom_classes": [],
      "_model_module": "@jupyter-widgets/controls",
      "_model_module_version": "1.5.0",
      "_model_name": "HTMLModel",
      "_view_count": null,
      "_view_module": "@jupyter-widgets/controls",
      "_view_module_version": "1.5.0",
      "_view_name": "HTMLView",
      "description": "",
      "description_tooltip": null,
      "layout": "IPY_MODEL_f858fcc0d16f459087577041d8af7a81",
      "placeholder": "​",
      "style": "IPY_MODEL_fcb12b772f9840b4b783ab83d65fc476",
      "value": " 170499072/? [00:06&lt;00:00, 32933844.61it/s]"
     }
    },
    "91e0cb15346342ef803ab724927a5045": {
     "model_module": "@jupyter-widgets/base",
     "model_module_version": "1.2.0",
     "model_name": "LayoutModel",
     "state": {
      "_model_module": "@jupyter-widgets/base",
      "_model_module_version": "1.2.0",
      "_model_name": "LayoutModel",
      "_view_count": null,
      "_view_module": "@jupyter-widgets/base",
      "_view_module_version": "1.2.0",
      "_view_name": "LayoutView",
      "align_content": null,
      "align_items": null,
      "align_self": null,
      "border": null,
      "bottom": null,
      "display": null,
      "flex": null,
      "flex_flow": null,
      "grid_area": null,
      "grid_auto_columns": null,
      "grid_auto_flow": null,
      "grid_auto_rows": null,
      "grid_column": null,
      "grid_gap": null,
      "grid_row": null,
      "grid_template_areas": null,
      "grid_template_columns": null,
      "grid_template_rows": null,
      "height": null,
      "justify_content": null,
      "justify_items": null,
      "left": null,
      "margin": null,
      "max_height": null,
      "max_width": null,
      "min_height": null,
      "min_width": null,
      "object_fit": null,
      "object_position": null,
      "order": null,
      "overflow": null,
      "overflow_x": null,
      "overflow_y": null,
      "padding": null,
      "right": null,
      "top": null,
      "visibility": null,
      "width": null
     }
    },
    "ebe265266f174d1cbee860e8ba4681d6": {
     "model_module": "@jupyter-widgets/controls",
     "model_module_version": "1.5.0",
     "model_name": "HBoxModel",
     "state": {
      "_dom_classes": [],
      "_model_module": "@jupyter-widgets/controls",
      "_model_module_version": "1.5.0",
      "_model_name": "HBoxModel",
      "_view_count": null,
      "_view_module": "@jupyter-widgets/controls",
      "_view_module_version": "1.5.0",
      "_view_name": "HBoxView",
      "box_style": "",
      "children": [
       "IPY_MODEL_5a57cf595789487991d2160c2c756e16",
       "IPY_MODEL_42169e65d8b348e1b7571bd857d35121",
       "IPY_MODEL_7d8c521b1e93440fa382f3205688df4c"
      ],
      "layout": "IPY_MODEL_91e0cb15346342ef803ab724927a5045"
     }
    },
    "f858fcc0d16f459087577041d8af7a81": {
     "model_module": "@jupyter-widgets/base",
     "model_module_version": "1.2.0",
     "model_name": "LayoutModel",
     "state": {
      "_model_module": "@jupyter-widgets/base",
      "_model_module_version": "1.2.0",
      "_model_name": "LayoutModel",
      "_view_count": null,
      "_view_module": "@jupyter-widgets/base",
      "_view_module_version": "1.2.0",
      "_view_name": "LayoutView",
      "align_content": null,
      "align_items": null,
      "align_self": null,
      "border": null,
      "bottom": null,
      "display": null,
      "flex": null,
      "flex_flow": null,
      "grid_area": null,
      "grid_auto_columns": null,
      "grid_auto_flow": null,
      "grid_auto_rows": null,
      "grid_column": null,
      "grid_gap": null,
      "grid_row": null,
      "grid_template_areas": null,
      "grid_template_columns": null,
      "grid_template_rows": null,
      "height": null,
      "justify_content": null,
      "justify_items": null,
      "left": null,
      "margin": null,
      "max_height": null,
      "max_width": null,
      "min_height": null,
      "min_width": null,
      "object_fit": null,
      "object_position": null,
      "order": null,
      "overflow": null,
      "overflow_x": null,
      "overflow_y": null,
      "padding": null,
      "right": null,
      "top": null,
      "visibility": null,
      "width": null
     }
    },
    "fb92c28c2ebe4b63ab23b1aa36fe0ff3": {
     "model_module": "@jupyter-widgets/base",
     "model_module_version": "1.2.0",
     "model_name": "LayoutModel",
     "state": {
      "_model_module": "@jupyter-widgets/base",
      "_model_module_version": "1.2.0",
      "_model_name": "LayoutModel",
      "_view_count": null,
      "_view_module": "@jupyter-widgets/base",
      "_view_module_version": "1.2.0",
      "_view_name": "LayoutView",
      "align_content": null,
      "align_items": null,
      "align_self": null,
      "border": null,
      "bottom": null,
      "display": null,
      "flex": null,
      "flex_flow": null,
      "grid_area": null,
      "grid_auto_columns": null,
      "grid_auto_flow": null,
      "grid_auto_rows": null,
      "grid_column": null,
      "grid_gap": null,
      "grid_row": null,
      "grid_template_areas": null,
      "grid_template_columns": null,
      "grid_template_rows": null,
      "height": null,
      "justify_content": null,
      "justify_items": null,
      "left": null,
      "margin": null,
      "max_height": null,
      "max_width": null,
      "min_height": null,
      "min_width": null,
      "object_fit": null,
      "object_position": null,
      "order": null,
      "overflow": null,
      "overflow_x": null,
      "overflow_y": null,
      "padding": null,
      "right": null,
      "top": null,
      "visibility": null,
      "width": null
     }
    },
    "fcb12b772f9840b4b783ab83d65fc476": {
     "model_module": "@jupyter-widgets/controls",
     "model_module_version": "1.5.0",
     "model_name": "DescriptionStyleModel",
     "state": {
      "_model_module": "@jupyter-widgets/controls",
      "_model_module_version": "1.5.0",
      "_model_name": "DescriptionStyleModel",
      "_view_count": null,
      "_view_module": "@jupyter-widgets/base",
      "_view_module_version": "1.2.0",
      "_view_name": "StyleView",
      "description_width": ""
     }
    }
   }
  }
 },
 "nbformat": 4,
 "nbformat_minor": 1
}
