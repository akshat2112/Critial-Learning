{
 "cells": [
  {
   "cell_type": "code",
   "execution_count": 1,
   "metadata": {
    "id": "izPT_K8sRUFe"
   },
   "outputs": [
    {
     "name": "stderr",
     "output_type": "stream",
     "text": [
      "/storage/home/hcocice1/anair319/.conda/envs/sp/lib/python3.9/site-packages/torchvision/io/image.py:13: UserWarning: Failed to load image Python extension: /lib64/libz.so.1: version `ZLIB_1.2.9' not found (required by /storage/home/hcocice1/anair319/.conda/envs/sp/lib/python3.9/site-packages/torchvision/../../../libpng16.so.16)\n",
      "  warn(f\"Failed to load image Python extension: {e}\")\n"
     ]
    }
   ],
   "source": [
    "import torch\n",
    "import torch.nn as nn\n",
    "import torchvision\n",
    "import torchvision.transforms as transforms\n",
    "from torchvision.transforms.functional import InterpolationMode\n",
    "import matplotlib.pyplot as plt\n",
    "import numpy as np\n",
    "import torch.nn.functional as F\n",
    "\n",
    "# For FIM\n",
    "import nngeometry\n",
    "from nngeometry import metrics\n",
    "from nngeometry.object.pspace import PMatDiag, PMatKFAC"
   ]
  },
  {
   "cell_type": "code",
   "execution_count": 2,
   "metadata": {},
   "outputs": [],
   "source": [
    "from nngeometry.object import FMatDense"
   ]
  },
  {
   "cell_type": "code",
   "execution_count": 3,
   "metadata": {
    "colab": {
     "base_uri": "https://localhost:8080/"
    },
    "id": "_LoFTPkk_HMu",
    "outputId": "af3f2040-86da-4f4f-df0a-711afa9f3a94"
   },
   "outputs": [
    {
     "data": {
      "text/plain": [
       "device(type='cuda')"
      ]
     },
     "execution_count": 3,
     "metadata": {},
     "output_type": "execute_result"
    }
   ],
   "source": [
    "# Device configuration\n",
    "device = torch.device('cuda' if torch.cuda.is_available() else 'cpu')\n",
    "device"
   ]
  },
  {
   "cell_type": "code",
   "execution_count": 4,
   "metadata": {},
   "outputs": [],
   "source": [
    "load_from_chkpt = True # Load from checkpoint in case of resuming training"
   ]
  },
  {
   "cell_type": "code",
   "execution_count": 5,
   "metadata": {
    "colab": {
     "base_uri": "https://localhost:8080/",
     "height": 102,
     "referenced_widgets": [
      "ebe265266f174d1cbee860e8ba4681d6",
      "5a57cf595789487991d2160c2c756e16",
      "42169e65d8b348e1b7571bd857d35121",
      "7d8c521b1e93440fa382f3205688df4c",
      "91e0cb15346342ef803ab724927a5045",
      "fb92c28c2ebe4b63ab23b1aa36fe0ff3",
      "2d4be4ffe46e422abda47318c8e6ebc0",
      "73044d7fc152463488f32f6c0cf4e687",
      "791e02267eb84006a020029d40d3f037",
      "f858fcc0d16f459087577041d8af7a81",
      "fcb12b772f9840b4b783ab83d65fc476"
     ]
    },
    "id": "jtFbPo2LRg0e",
    "outputId": "f34d323b-7912-48dd-881a-a6c600730a81"
   },
   "outputs": [
    {
     "name": "stdout",
     "output_type": "stream",
     "text": [
      "Files already downloaded and verified\n",
      "Files already downloaded and verified\n"
     ]
    }
   ],
   "source": [
    "transform = transforms.Compose([transforms.RandomCrop(32, padding=4),\n",
    "                                transforms.RandomHorizontalFlip(),\n",
    "                                transforms.ToTensor(),\n",
    "                                transforms.Normalize((0.4914, 0.4822, 0.4465), (0.2023, 0.1994, 0.2010))])\n",
    "transform_blur = transforms.Compose([\n",
    "                                     transforms.Resize((8,8)),\n",
    "                                     transforms.Resize((32,32),interpolation=InterpolationMode.BILINEAR),\n",
    "                                     transforms.RandomCrop(32, padding=4),\n",
    "                                     transforms.RandomHorizontalFlip(),\n",
    "                                     transforms.ToTensor(),\n",
    "                                     transforms.Normalize((0.4914, 0.4822, 0.4465), (0.2023, 0.1994, 0.2010))])\n",
    "\n",
    "# CIFAR 10 Dataset\n",
    "train_dataset_clean = torchvision.datasets.CIFAR10(root='./data/',\n",
    "                                             train=True, \n",
    "                                             transform=transform,\n",
    "                                             download=True)\n",
    "\n",
    "train_dataset_blur = torchvision.datasets.CIFAR10(root='./data/',\n",
    "                                             train=True, \n",
    "                                             transform=transform_blur,\n",
    "                                             download=True)\n",
    "\n",
    "test_dataset = torchvision.datasets.CIFAR10(root='./data/',\n",
    "                                            train=False, \n",
    "                                            transform=transform)\n",
    "\n",
    "classes = ('plane', 'car', 'bird', 'cat', 'deer',\n",
    "           'dog', 'frog', 'horse', 'ship', 'truck')"
   ]
  },
  {
   "cell_type": "code",
   "execution_count": 6,
   "metadata": {
    "id": "HonLDq8pARc3"
   },
   "outputs": [],
   "source": [
    "batch_size = 128\n",
    "\n",
    "train_loader_clean = torch.utils.data.DataLoader(dataset=train_dataset_clean,\n",
    "                                           batch_size=batch_size, \n",
    "                                           shuffle=True)\n",
    "\n",
    "train_loader_blur = torch.utils.data.DataLoader(dataset=train_dataset_blur,\n",
    "                                           batch_size=batch_size, \n",
    "                                           shuffle=True)\n",
    "\n",
    "test_loader = torch.utils.data.DataLoader(dataset=test_dataset,\n",
    "                                          batch_size=batch_size, \n",
    "                                          shuffle=False)"
   ]
  },
  {
   "cell_type": "code",
   "execution_count": 7,
   "metadata": {
    "id": "wXUXqxnMBpZe"
   },
   "outputs": [],
   "source": [
    "# def imshow(img, fig_title):\n",
    "#     # img = img / 2 + 0.5\n",
    "#     npimg = img.numpy()\n",
    "#     plt.imshow(np.transpose(npimg.squeeze()))\n",
    "#     plt.title(fig_title)\n",
    "#     plt.show()\n",
    "    \n",
    "\n",
    "\n",
    "# # get some random training images and show\n",
    "# dataiter_blur = iter(train_loader_blur)\n",
    "# images_blur, labels_blur = dataiter_blur.next()\n",
    "# imshow(torchvision.utils.make_grid(images_blur), \"Blurred images\")\n",
    "# # print(' '.join(f'{classes[labels_blur[j]]:5s}' for j in range(batch_size)))\n",
    "\n",
    "# dataiter_clean = iter(train_loader_clean)\n",
    "# images_clean, labels_clean = dataiter_clean.next()\n",
    "# imshow(torchvision.utils.make_grid(images_clean), \"Clean images\")\n",
    "# # print(' '.join(f'{classes[labels_clean[j]]:5s}' for j in range(batch_size)))"
   ]
  },
  {
   "cell_type": "code",
   "execution_count": 8,
   "metadata": {
    "id": "iZok3ghfT4pK"
   },
   "outputs": [],
   "source": [
    "class AllCNNNet(nn.Module):\n",
    "  def __init__(self):\n",
    "    super().__init__()\n",
    "    self.dp0 = nn.Dropout2d(p = 0.2)\n",
    "    self.conv1 = nn.Conv2d(3, 96, 3, padding=1)\n",
    "    self.conv2 = nn.Conv2d(96, 96, 3, padding=1)\n",
    "    self.conv3 = nn.Conv2d(96, 192, 3, stride=2, padding=1)\n",
    "    self.dp1 = nn.Dropout2d(p = 0.5)\n",
    "    self.conv4 = nn.Conv2d(192, 192, 3, padding=1)\n",
    "    self.conv5 = nn.Conv2d(192, 192, 3, padding=1)\n",
    "    self.conv6 = nn.Conv2d(192, 192, 3, stride=2, padding=1)\n",
    "    self.dp2 = nn.Dropout2d(p = 0.5)\n",
    "    self.conv7 = nn.Conv2d(192, 192, 3, padding=0)\n",
    "    self.conv8 = nn.Conv2d(192, 192, 1)\n",
    "    self.conv9 = nn.Conv2d(192, 10, 1)\n",
    "    self.avg = nn.AvgPool2d(6)\n",
    "\n",
    "    nn.init.xavier_normal_(self.conv1.weight)\n",
    "    nn.init.xavier_normal_(self.conv2.weight)\n",
    "    nn.init.xavier_normal_(self.conv3.weight)\n",
    "    nn.init.xavier_normal_(self.conv4.weight)\n",
    "    nn.init.xavier_normal_(self.conv5.weight)\n",
    "    nn.init.xavier_normal_(self.conv6.weight)\n",
    "    nn.init.xavier_normal_(self.conv7.weight)\n",
    "    nn.init.xavier_normal_(self.conv8.weight)\n",
    "    nn.init.xavier_normal_(self.conv9.weight)\n",
    "\n",
    "  def forward(self, x):\n",
    "    x = self.dp0(x)\n",
    "    x = F.relu(self.conv1(x))\n",
    "    x = F.relu(self.conv2(x))\n",
    "    x = F.relu(self.conv3(x))\n",
    "    x = self.dp1(x)\n",
    "    x = F.relu(self.conv4(x))\n",
    "    x = F.relu(self.conv5(x))\n",
    "    x = F.relu(self.conv6(x))\n",
    "    x = self.dp2(x)\n",
    "    x = F.relu(self.conv7(x))\n",
    "    x = F.relu(self.conv8(x))\n",
    "    x = F.relu(self.conv9(x))\n",
    "    x = self.avg(x)\n",
    "    x = torch.squeeze(x)\n",
    "    # x = F.softmax(x, dim=0)\n",
    "    return x\n",
    "\n",
    "net = AllCNNNet().to(device)"
   ]
  },
  {
   "cell_type": "code",
   "execution_count": 9,
   "metadata": {
    "id": "C_K2L2tFjbqF"
   },
   "outputs": [],
   "source": [
    "# class AllCNNNet(nn.Module):\n",
    "#   def __init__(self):\n",
    "#     super().__init__()\n",
    "#     self.conv1 = nn.Conv2d(3, 6, 5)\n",
    "#     self.pool = nn.MaxPool2d(2, 2)\n",
    "#     self.conv2 = nn.Conv2d(6, 16, 5)\n",
    "#     self.fc1 = nn.Linear(16*5*5, 120)\n",
    "#     self.fc2 = nn.Linear(120, 84)\n",
    "#     self.fc3 = nn.Linear(84, 10)\n",
    "\n",
    "#   def forward(self, x):\n",
    "#     x = self.pool(F.relu(self.conv1(x)))\n",
    "#     x = self.pool(F.relu(self.conv2(x)))\n",
    "#     x = torch.flatten(x, 1)\n",
    "#     x = F.relu(self.fc1(x))\n",
    "#     x = F.relu(self.fc2(x))\n",
    "#     x = self.fc3(x)\n",
    "#     return x\n",
    "\n",
    "# net = AllCNNNet().to(device)"
   ]
  },
  {
   "cell_type": "code",
   "execution_count": 10,
   "metadata": {
    "id": "EuN4qPtdLnc2"
   },
   "outputs": [],
   "source": [
    "# Hyper-parameters\n",
    "num_epochs_blur = 0\n",
    "num_epochs_clean = 220\n",
    "learning_rate = 0.05"
   ]
  },
  {
   "cell_type": "code",
   "execution_count": 11,
   "metadata": {
    "id": "We6ex2sWU_id"
   },
   "outputs": [],
   "source": [
    "criterion = nn.CrossEntropyLoss()\n",
    "optimizer = torch.optim.SGD(net.parameters(), lr=learning_rate, weight_decay=0.001, momentum=0.9, nesterov=True)\n",
    "# optimizer = torch.optim.Adam(net.parameters(), lr=learning_rate)"
   ]
  },
  {
   "cell_type": "code",
   "execution_count": 12,
   "metadata": {
    "colab": {
     "base_uri": "https://localhost:8080/"
    },
    "id": "exHtl5Wh5lOA",
    "outputId": "055b7562-3dbf-4978-fb1e-139183359ba3"
   },
   "outputs": [],
   "source": [
    "# from torchsummary import summary\n",
    "\n",
    "# summary(net, (3, 32, 32))"
   ]
  },
  {
   "cell_type": "code",
   "execution_count": 13,
   "metadata": {
    "id": "AcryIUcMXipz"
   },
   "outputs": [],
   "source": [
    "# For updating learning rate\n",
    "def update_lr(optimizer, lr):    \n",
    "#     print (\"Updating LR\")\n",
    "    for param_group in optimizer.param_groups:\n",
    "        param_group['lr'] = lr"
   ]
  },
  {
   "cell_type": "code",
   "execution_count": 14,
   "metadata": {
    "colab": {
     "base_uri": "https://localhost:8080/"
    },
    "id": "NJhnjtlrVMsQ",
    "outputId": "ac0a4507-7aad-4fd5-804b-14c2ddb336d7",
    "scrolled": true
   },
   "outputs": [
    {
     "name": "stdout",
     "output_type": "stream",
     "text": [
      "!!!Loaded from checkpoint!!! Epoch:200 Loss:0.28463831543922424 curr_lr:0.0001130620504997884\n",
      "Using clean\n",
      "Epoch [201/220], Step [100/391] Loss: 0.3031 LR: 0.0001\n",
      "Epoch [201/220], Step [200/391] Loss: 0.2616 LR: 0.0001\n",
      "Epoch [201/220], Step [300/391] Loss: 0.3211 LR: 0.0001\n",
      "Accuracy of the network : 85 %\n",
      "tensor(1070.9618, device='cuda:0')\n",
      "Using clean\n",
      "Epoch [202/220], Step [100/391] Loss: 0.1572 LR: 0.0001\n",
      "Epoch [202/220], Step [200/391] Loss: 0.2568 LR: 0.0001\n",
      "Epoch [202/220], Step [300/391] Loss: 0.1830 LR: 0.0001\n",
      "Accuracy of the network : 86 %\n",
      "tensor(1072.2943, device='cuda:0')\n",
      "Using clean\n",
      "Epoch [203/220], Step [100/391] Loss: 0.1720 LR: 0.0001\n",
      "Epoch [203/220], Step [200/391] Loss: 0.2279 LR: 0.0001\n",
      "Epoch [203/220], Step [300/391] Loss: 0.1831 LR: 0.0001\n",
      "Accuracy of the network : 86 %\n",
      "tensor(1090.2133, device='cuda:0')\n",
      "Using clean\n",
      "Epoch [204/220], Step [100/391] Loss: 0.3015 LR: 0.0001\n",
      "Epoch [204/220], Step [200/391] Loss: 0.2844 LR: 0.0001\n",
      "Epoch [204/220], Step [300/391] Loss: 0.2250 LR: 0.0001\n",
      "Accuracy of the network : 85 %\n",
      "tensor(1073.2290, device='cuda:0')\n",
      "Using clean\n",
      "Epoch [205/220], Step [100/391] Loss: 0.2768 LR: 0.0001\n",
      "Epoch [205/220], Step [200/391] Loss: 0.2529 LR: 0.0001\n",
      "Epoch [205/220], Step [300/391] Loss: 0.2524 LR: 0.0001\n",
      "Accuracy of the network : 86 %\n",
      "tensor(1074.3143, device='cuda:0')\n",
      "Using clean\n",
      "Epoch [206/220], Step [100/391] Loss: 0.1686 LR: 0.0001\n",
      "Epoch [206/220], Step [200/391] Loss: 0.2857 LR: 0.0001\n",
      "Epoch [206/220], Step [300/391] Loss: 0.1898 LR: 0.0001\n",
      "Accuracy of the network : 85 %\n",
      "tensor(1074.9259, device='cuda:0')\n",
      "Using clean\n",
      "Epoch [207/220], Step [100/391] Loss: 0.1743 LR: 0.0001\n",
      "Epoch [207/220], Step [200/391] Loss: 0.2401 LR: 0.0001\n",
      "Epoch [207/220], Step [300/391] Loss: 0.2920 LR: 0.0001\n",
      "Accuracy of the network : 85 %\n",
      "tensor(1085.7881, device='cuda:0')\n",
      "Using clean\n",
      "Epoch [208/220], Step [100/391] Loss: 0.2386 LR: 0.0001\n",
      "Epoch [208/220], Step [200/391] Loss: 0.2194 LR: 0.0001\n",
      "Epoch [208/220], Step [300/391] Loss: 0.2507 LR: 0.0001\n",
      "Accuracy of the network : 86 %\n",
      "tensor(1084.5547, device='cuda:0')\n",
      "Using clean\n",
      "Epoch [209/220], Step [100/391] Loss: 0.2130 LR: 0.0001\n",
      "Epoch [209/220], Step [200/391] Loss: 0.2450 LR: 0.0001\n",
      "Epoch [209/220], Step [300/391] Loss: 0.2289 LR: 0.0001\n",
      "Accuracy of the network : 86 %\n",
      "tensor(1080.0930, device='cuda:0')\n",
      "Using clean\n",
      "Epoch [210/220], Step [100/391] Loss: 0.1861 LR: 0.0001\n",
      "Epoch [210/220], Step [200/391] Loss: 0.2572 LR: 0.0001\n",
      "Epoch [210/220], Step [300/391] Loss: 0.3528 LR: 0.0001\n",
      "Accuracy of the network : 85 %\n",
      "tensor(1077.4360, device='cuda:0')\n",
      "!!!Checkpoint saved!!!\n",
      "Using clean\n",
      "Epoch [211/220], Step [100/391] Loss: 0.2761 LR: 0.0001\n",
      "Epoch [211/220], Step [200/391] Loss: 0.3029 LR: 0.0001\n",
      "Epoch [211/220], Step [300/391] Loss: 0.3110 LR: 0.0001\n",
      "Accuracy of the network : 85 %\n",
      "tensor(1075.0658, device='cuda:0')\n",
      "Using clean\n",
      "Epoch [212/220], Step [100/391] Loss: 0.1948 LR: 0.0001\n",
      "Epoch [212/220], Step [200/391] Loss: 0.2745 LR: 0.0001\n",
      "Epoch [212/220], Step [300/391] Loss: 0.1438 LR: 0.0001\n",
      "Accuracy of the network : 85 %\n",
      "tensor(1081.3586, device='cuda:0')\n",
      "Using clean\n",
      "Epoch [213/220], Step [100/391] Loss: 0.2909 LR: 0.0001\n",
      "Epoch [213/220], Step [200/391] Loss: 0.2222 LR: 0.0001\n",
      "Epoch [213/220], Step [300/391] Loss: 0.2111 LR: 0.0001\n",
      "Accuracy of the network : 86 %\n",
      "tensor(1095.8954, device='cuda:0')\n",
      "Using clean\n",
      "Epoch [214/220], Step [100/391] Loss: 0.2675 LR: 0.0001\n",
      "Epoch [214/220], Step [200/391] Loss: 0.2051 LR: 0.0001\n",
      "Epoch [214/220], Step [300/391] Loss: 0.2315 LR: 0.0001\n",
      "Accuracy of the network : 85 %\n",
      "tensor(1081.5668, device='cuda:0')\n",
      "Using clean\n",
      "Epoch [215/220], Step [100/391] Loss: 0.2714 LR: 0.0001\n",
      "Epoch [215/220], Step [200/391] Loss: 0.2486 LR: 0.0001\n",
      "Epoch [215/220], Step [300/391] Loss: 0.3381 LR: 0.0001\n",
      "Accuracy of the network : 85 %\n",
      "tensor(1092.5695, device='cuda:0')\n",
      "Using clean\n",
      "Epoch [216/220], Step [100/391] Loss: 0.3684 LR: 0.0001\n",
      "Epoch [216/220], Step [200/391] Loss: 0.2743 LR: 0.0001\n",
      "Epoch [216/220], Step [300/391] Loss: 0.2564 LR: 0.0001\n",
      "Accuracy of the network : 86 %\n",
      "tensor(1096.6204, device='cuda:0')\n",
      "Using clean\n",
      "Epoch [217/220], Step [100/391] Loss: 0.2697 LR: 0.0001\n",
      "Epoch [217/220], Step [200/391] Loss: 0.2736 LR: 0.0001\n",
      "Epoch [217/220], Step [300/391] Loss: 0.2210 LR: 0.0001\n",
      "Accuracy of the network : 85 %\n",
      "tensor(1097.2917, device='cuda:0')\n",
      "Using clean\n",
      "Epoch [218/220], Step [100/391] Loss: 0.3477 LR: 0.0001\n",
      "Epoch [218/220], Step [200/391] Loss: 0.3323 LR: 0.0001\n",
      "Epoch [218/220], Step [300/391] Loss: 0.2723 LR: 0.0001\n",
      "Accuracy of the network : 86 %\n",
      "tensor(1078.8090, device='cuda:0')\n",
      "Using clean\n",
      "Epoch [219/220], Step [100/391] Loss: 0.2135 LR: 0.0001\n",
      "Epoch [219/220], Step [200/391] Loss: 0.2129 LR: 0.0001\n",
      "Epoch [219/220], Step [300/391] Loss: 0.2431 LR: 0.0001\n",
      "Accuracy of the network : 86 %\n",
      "tensor(1101.0939, device='cuda:0')\n",
      "Using clean\n",
      "Epoch [220/220], Step [100/391] Loss: 0.3206 LR: 0.0001\n",
      "Epoch [220/220], Step [200/391] Loss: 0.2699 LR: 0.0001\n",
      "Epoch [220/220], Step [300/391] Loss: 0.2698 LR: 0.0001\n",
      "Accuracy of the network : 85 %\n",
      "tensor(1090.1395, device='cuda:0')\n",
      "!!!Checkpoint saved!!!\n",
      "Finished Training\n"
     ]
    }
   ],
   "source": [
    "num_epochs = num_epochs_blur + num_epochs_clean\n",
    "total_step = len(train_loader_clean)\n",
    "curr_lr = learning_rate\n",
    "loss_plot = []\n",
    "accuracy_plot = []\n",
    "FIM_plot = []\n",
    "epoch_chkpt = 0\n",
    "\n",
    "if(load_from_chkpt):\n",
    "  # Load model from checkpoint\n",
    "  path_chkpt = \"./chkpt_2/model.pt\"\n",
    "  loss_plot_chkpt = \"./chkpt_2/loss_plot.npy\"\n",
    "  acc_plot_chkpt = \"./chkpt_2/acc_plot.npy\"\n",
    "  FIM_plot_chkpt = \"./chkpt_2/FIM_plot.npy\"\n",
    "  model = net\n",
    "#   optimizer = torch.optim.SGD(net.parameters(), lr=learning_rate, weight_decay=0.001, momentum=0.9, nesterov=True)\n",
    "\n",
    "  checkpoint = torch.load(path_chkpt)\n",
    "  model.load_state_dict(checkpoint['model_state_dict'])\n",
    "  optimizer.load_state_dict(checkpoint['optimizer_state_dict'])\n",
    "  epoch_chkpt = checkpoint['epoch']\n",
    "  loss = checkpoint['loss']\n",
    "  curr_lr = checkpoint['curr_lr']\n",
    "  loss_plot = np.append(loss_plot, np.load(loss_plot_chkpt))\n",
    "  accuracy_plot = np.append(accuracy_plot, np.load(acc_plot_chkpt))\n",
    "  FIM_plot = np.append(FIM_plot, np.load(FIM_plot_chkpt))\n",
    "\n",
    "  model.train()\n",
    "  print(\"!!!Loaded from checkpoint!!! Epoch:{} Loss:{} curr_lr:{}\".format(epoch_chkpt, loss, curr_lr))\n",
    "\n",
    "for epoch in range(epoch_chkpt, num_epochs):  # loop over the dataset multiple times\n",
    "  if epoch < num_epochs_blur:\n",
    "    train_loader = train_loader_blur\n",
    "    print(\"Using blur\")\n",
    "  else:\n",
    "    train_loader = train_loader_clean\n",
    "    print(\"Using clean\")\n",
    "\n",
    "  # running_loss = 0.0\n",
    "  for i, (inputs, labels) in enumerate(train_loader):\n",
    "      inputs = inputs.to(device)\n",
    "      labels = labels.to(device)\n",
    "\n",
    "      # forward + backward + optimize\n",
    "      outputs = net(inputs)\n",
    "      loss = criterion(outputs, labels)\n",
    "\n",
    "      # zero the parameter gradients\n",
    "      optimizer.zero_grad()\n",
    "      loss.backward()\n",
    "\n",
    "\n",
    "      optimizer.step()\n",
    "      loss_plot = np.append(loss_plot, loss.item())\n",
    "\n",
    "      if (i+1) % 100 == 0:\n",
    "        print (\"Epoch [{}/{}], Step [{}/{}] Loss: {:.4f} LR: {:.4f}\"\n",
    "                .format(epoch+1, num_epochs, i+1, total_step, loss.item(), curr_lr))\n",
    "\n",
    "  # Decay learning rate\n",
    "  curr_lr = 0.97 * curr_lr\n",
    "  update_lr(optimizer, curr_lr)\n",
    "\n",
    "  correct = 0\n",
    "  total = 0\n",
    "  # since we're not training, we don't need to calculate the gradients for our outputs\n",
    "  with torch.no_grad():\n",
    "      for data in test_loader:\n",
    "          images, labels = data\n",
    "          images = images.to(device)\n",
    "          labels = labels.to(device)\n",
    "          # calculate outputs by running images through the network\n",
    "          outputs = net(images)\n",
    "          # the class with the highest energy is what we choose as prediction\n",
    "          _, predicted = torch.max(outputs.data, 1)\n",
    "          total += labels.size(0)\n",
    "          correct += (predicted == labels).sum().item()\n",
    "\n",
    "  accuracy_temp = 100 * correct // total\n",
    "  print(f'Accuracy of the network : {accuracy_temp} %')\n",
    "  accuracy_plot = np.append(accuracy_plot, accuracy_temp)\n",
    "\n",
    "  F_diag = nngeometry.metrics.FIM(model=net,\n",
    "                 loader=train_loader,\n",
    "                 representation=PMatKFAC,\n",
    "                 n_output=10,\n",
    "                 device=device)\n",
    "  print(F_diag.trace())\n",
    "\n",
    "  FIM_plot = np.append(FIM_plot, F_diag.trace().item())\n",
    "\n",
    "  if (epoch+1)==2 or (epoch+1)%10==0:\n",
    "    # Save model checkpoint\n",
    "    epoch_chkpt = epoch+1\n",
    "    path_chkpt = \"./chkpt_2/model.pt\"\n",
    "    loss_plot_chkpt = './chkpt_2/loss_plot.npy'\n",
    "    acc_plot_chkpt = './chkpt_2/acc_plot.npy'\n",
    "    FIM_plot_chkpt = './chkpt_2/FIM_plot.npy'\n",
    "    loss_chkpt = loss.item()\n",
    "\n",
    "    torch.save({\n",
    "                'epoch': epoch_chkpt,\n",
    "                'model_state_dict': net.state_dict(),\n",
    "                'optimizer_state_dict': optimizer.state_dict(),\n",
    "                'loss': loss_chkpt,\n",
    "                'curr_lr': curr_lr,\n",
    "                }, path_chkpt)\n",
    "    np.save(loss_plot_chkpt, loss_plot)\n",
    "    np.save(acc_plot_chkpt, accuracy_plot)\n",
    "    np.save(FIM_plot_chkpt, FIM_plot)\n",
    "    print('!!!Checkpoint saved!!!')\n",
    "\n",
    "print('Finished Training')"
   ]
  },
  {
   "cell_type": "code",
   "execution_count": 15,
   "metadata": {
    "colab": {
     "base_uri": "https://localhost:8080/",
     "height": 265
    },
    "id": "6h9JVHX45WKh",
    "outputId": "e8a8acce-58e4-4723-ad2a-97b0e5e617f4"
   },
   "outputs": [
    {
     "data": {
      "image/png": "[encoded data removed]",
      "text/plain": [
       "<Figure size 432x288 with 1 Axes>"
      ]
     },
     "metadata": {
      "needs_background": "light"
     },
     "output_type": "display_data"
    }
   ],
   "source": [
    "plt.plot(accuracy_plot)\n",
    "plt.show()"
   ]
  },
  {
   "cell_type": "code",
   "execution_count": 16,
   "metadata": {
    "colab": {
     "base_uri": "https://localhost:8080/",
     "height": 265
    },
    "id": "gKz9k59mgawM",
    "outputId": "676a2fa5-311f-43cf-8668-2490e981ad9e"
   },
   "outputs": [
    {
     "data": {
      "image/png": "[encoded data removed]",
      "text/plain": [
       "<Figure size 432x288 with 1 Axes>"
      ]
     },
     "metadata": {
      "needs_background": "light"
     },
     "output_type": "display_data"
    }
   ],
   "source": [
    "plt.plot(loss_plot)\n",
    "plt.show()"
   ]
  },
  {
   "cell_type": "code",
   "execution_count": 17,
   "metadata": {},
   "outputs": [
    {
     "data": {
      "image/png": "[encoded data removed]",
      "text/plain": [
       "<Figure size 432x288 with 1 Axes>"
      ]
     },
     "metadata": {
      "needs_background": "light"
     },
     "output_type": "display_data"
    }
   ],
   "source": [
    "plt.plot(FIM_plot)\n",
    "plt.show()"
   ]
  },
  {
   "cell_type": "code",
   "execution_count": 18,
   "metadata": {
    "id": "SzZXAApB-cHL"
   },
   "outputs": [],
   "source": [
    "PATH = './cifar_net_2.pth'\n",
    "torch.save(net.state_dict(), PATH)"
   ]
  },
  {
   "cell_type": "code",
   "execution_count": 19,
   "metadata": {},
   "outputs": [],
   "source": [
    "np.save('./acc_2.npy', accuracy_plot)\n",
    "np.save('./loss_2.npy', loss_plot)\n",
    "np.save('./FIM_plot_2.npy', FIM_plot)"
   ]
  },
  {
   "cell_type": "code",
   "execution_count": 20,
   "metadata": {},
   "outputs": [
    {
     "data": {
      "image/png": "[encoded data removed]",
      "text/plain": [
       "<Figure size 432x288 with 1 Axes>"
      ]
     },
     "metadata": {
      "needs_background": "light"
     },
     "output_type": "display_data"
    }
   ],
   "source": [
    "acc_data = np.load('./acc_2.npy')\n",
    "plt.plot(acc_data)\n",
    "plt.show()"
   ]
  },
  {
   "cell_type": "code",
   "execution_count": 21,
   "metadata": {},
   "outputs": [
    {
     "data": {
      "image/png": "[encoded data removed]",
      "text/plain": [
       "<Figure size 432x288 with 1 Axes>"
      ]
     },
     "metadata": {
      "needs_background": "light"
     },
     "output_type": "display_data"
    }
   ],
   "source": [
    "loss_data = np.load('./loss_2.npy')\n",
    "plt.plot(loss_data)\n",
    "plt.show()"
   ]
  },
  {
   "cell_type": "code",
   "execution_count": 22,
   "metadata": {},
   "outputs": [
    {
     "data": {
      "image/png": "[encoded data removed]",
      "text/plain": [
       "<Figure size 432x288 with 1 Axes>"
      ]
     },
     "metadata": {
      "needs_background": "light"
     },
     "output_type": "display_data"
    }
   ],
   "source": [
    "FIM_data = np.load('./FIM_plot_2.npy')\n",
    "plt.plot(FIM_data)\n",
    "plt.show()"
   ]
  },
  {
   "cell_type": "code",
   "execution_count": 33,
   "metadata": {},
   "outputs": [
    {
     "data": {
      "image/png": "[encoded data removed]",
      "text/plain": [
       "<Figure size 432x288 with 1 Axes>"
      ]
     },
     "metadata": {
      "needs_background": "light"
     },
     "output_type": "display_data"
    }
   ],
   "source": [
    "grad = np.gradient(FIM_data)\n",
    "plt.plot(grad)\n",
    "plt.show()"
   ]
  },
  {
   "cell_type": "code",
   "execution_count": 23,
   "metadata": {
    "colab": {
     "base_uri": "https://localhost:8080/"
    },
    "id": "KkKiaV67-yAI",
    "outputId": "c9e114a8-8d70-42f5-a4d7-584d7338aeb2"
   },
   "outputs": [
    {
     "name": "stdout",
     "output_type": "stream",
     "text": [
      "Accuracy for class: plane is 87.4 %\n",
      "Accuracy for class: car   is 93.9 %\n",
      "Accuracy for class: bird  is 77.7 %\n",
      "Accuracy for class: cat   is 72.0 %\n",
      "Accuracy for class: deer  is 84.8 %\n",
      "Accuracy for class: dog   is 80.8 %\n",
      "Accuracy for class: frog  is 91.9 %\n",
      "Accuracy for class: horse is 89.3 %\n",
      "Accuracy for class: ship  is 92.6 %\n",
      "Accuracy for class: truck is 91.7 %\n"
     ]
    }
   ],
   "source": [
    "# prepare to count predictions for each class\n",
    "correct_pred = {classname: 0 for classname in classes}\n",
    "total_pred = {classname: 0 for classname in classes}\n",
    "\n",
    "# again no gradients needed\n",
    "with torch.no_grad():\n",
    "    for data in test_loader:\n",
    "        images, labels = data\n",
    "        images = images.to(device)\n",
    "        labels = labels.to(device)\n",
    "        outputs = net(images)\n",
    "        _, predictions = torch.max(outputs, 1)\n",
    "        # collect the correct predictions for each class\n",
    "        for label, prediction in zip(labels, predictions):\n",
    "            if label == prediction:\n",
    "                correct_pred[classes[label]] += 1\n",
    "            total_pred[classes[label]] += 1\n",
    "\n",
    "\n",
    "# print accuracy for each class\n",
    "for classname, correct_count in correct_pred.items():\n",
    "    accuracy = 100 * float(correct_count) / total_pred[classname]\n",
    "    print(f'Accuracy for class: {classname:5s} is {accuracy:.1f} %')"
   ]
  },
  {
   "cell_type": "code",
   "execution_count": 24,
   "metadata": {},
   "outputs": [
    {
     "data": {
      "image/png": "[encoded data removed]",
      "text/plain": [
       "<Figure size 432x288 with 1 Axes>"
      ]
     },
     "metadata": {
      "needs_background": "light"
     },
     "output_type": "display_data"
    }
   ],
   "source": [
    "acc_data = np.load('./acc.npy')\n",
    "acc_deficits = [86, 83, 82, 79, 77, 75, 74, 73, 73]\n",
    "deficits = [0, 20, 40, 60, 80, 100, 120, 140, 160]\n",
    "plt.plot(acc_data,'--g')\n",
    "plt.plot(deficits, acc_deficits, 'o-b')\n",
    "plt.ylim(65, 90)\n",
    "plt.show()"
   ]
  },
  {
   "cell_type": "code",
   "execution_count": 25,
   "metadata": {},
   "outputs": [],
   "source": [
    "# !pip install git+https://github.com/tfjgeorge/nngeometry.git"
   ]
  },
  {
   "cell_type": "code",
   "execution_count": 26,
   "metadata": {},
   "outputs": [],
   "source": [
    "# import torch\n",
    "# import torch.nn as nn\n",
    "# import torch.nn.functional as F\n",
    "\n",
    "# class BasicBlock(nn.Module):\n",
    "#     expansion = 1\n",
    "\n",
    "#     def __init__(self, in_planes, planes, stride=1):\n",
    "#         super(BasicBlock, self).__init__()\n",
    "#         self.conv1 = nn.Conv2d(in_planes, planes, kernel_size=3, stride=stride, padding=1)\n",
    "#         self.conv2 = nn.Conv2d(planes, planes, kernel_size=3, stride=1, padding=1)\n",
    "\n",
    "#         self.shortcut = nn.Sequential()\n",
    "#         if stride != 1 or in_planes != self.expansion*planes:\n",
    "#             self.shortcut = nn.Conv2d(in_planes, self.expansion*planes, kernel_size=1, stride=stride, bias=False)\n",
    "\n",
    "#     def forward(self, x):\n",
    "#         out = F.relu(self.conv1(x))\n",
    "#         out = self.conv2(out)\n",
    "#         out = F.relu(out + self.shortcut(x))\n",
    "#         return out\n",
    "\n",
    "# class ResNet(nn.Module):\n",
    "#     def __init__(self, block, num_blocks, num_classes=10):\n",
    "#         super(ResNet, self).__init__()\n",
    "#         self.in_planes = 64\n",
    "\n",
    "#         self.conv1 = nn.Conv2d(3, 64, kernel_size=3, stride=1, padding=1)\n",
    "#         self.layer1 = self._make_layer(block, 64, num_blocks[0], stride=1)\n",
    "#         self.layer2 = self._make_layer(block, 128, num_blocks[1], stride=2)\n",
    "#         self.layer3 = self._make_layer(block, 256, num_blocks[2], stride=2)\n",
    "#         self.layer4 = self._make_layer(block, 512, num_blocks[3], stride=2)\n",
    "#         self.linear = nn.Linear(512*block.expansion, num_classes)\n",
    "\n",
    "#     def _make_layer(self, block, planes, num_blocks, stride):\n",
    "#         strides = [stride] + [1]*(num_blocks-1)\n",
    "#         layers = []\n",
    "#         for stride in strides:\n",
    "#             layers.append(block(self.in_planes, planes, stride))\n",
    "#             self.in_planes = planes * block.expansion\n",
    "#         return nn.Sequential(*layers)\n",
    "\n",
    "#     def forward(self, x):\n",
    "#         out = self.conv1(x)\n",
    "#         out = F.relu(out)\n",
    "#         out = self.layer1(out)\n",
    "#         out = self.layer2(out)\n",
    "#         out = self.layer3(out)\n",
    "#         out = self.layer4(out)\n",
    "#         out = F.avg_pool2d(out, 4)\n",
    "#         out = out.view(out.size(0), -1)\n",
    "#         out = self.linear(out)\n",
    "#         return out\n",
    "\n",
    "\n",
    "# def ResNet18():\n",
    "#     return ResNet(BasicBlock, [2,2,2,2])\n",
    "\n",
    "# model = ResNet18().cuda()"
   ]
  },
  {
   "cell_type": "code",
   "execution_count": 27,
   "metadata": {},
   "outputs": [],
   "source": [
    "# from torch.utils.data import DataLoader, TensorDataset, Subset\n",
    "\n",
    "# import torchvision.transforms as transforms\n",
    "# from torchvision.datasets import CIFAR10\n",
    "\n",
    "# transform = transforms.Compose([\n",
    "#     transforms.ToTensor(),\n",
    "#     transforms.Normalize((0.4914, 0.4822, 0.4465), (0.2023, 0.1994, 0.2010)),\n",
    "# ])\n",
    "\n",
    "# testset = Subset(CIFAR10(root='./data/', train=False, download=True,\n",
    "#                          transform=transform), range(100))\n",
    "\n",
    "# def to_tensordataset(dataset):\n",
    "#     d = next(iter(DataLoader(dataset,\n",
    "#                   batch_size=len(dataset))))\n",
    "#     return TensorDataset(d[0].to('cuda'), d[1].to('cuda'))\n",
    "\n",
    "# testloader = DataLoader(to_tensordataset(testset), batch_size=100, shuffle=False)"
   ]
  },
  {
   "cell_type": "code",
   "execution_count": 28,
   "metadata": {},
   "outputs": [],
   "source": [
    "# from nngeometry.generator import Jacobian\n",
    "# from nngeometry.object import FMatDense\n",
    "# import time\n",
    "\n",
    "# generator = Jacobian(model=model, n_output=10)\n",
    "\n",
    "# start_time = time.time()\n",
    "# K = FMatDense(generator, examples=testloader)\n",
    "# end_time = time.time()\n",
    "\n",
    "# print(f'time: {end_time - start_time}s')"
   ]
  },
  {
   "cell_type": "code",
   "execution_count": 29,
   "metadata": {},
   "outputs": [],
   "source": [
    "# K_torch = K.get_dense_tensor()"
   ]
  },
  {
   "cell_type": "code",
   "execution_count": 30,
   "metadata": {},
   "outputs": [],
   "source": [
    "# K_torch.size()"
   ]
  },
  {
   "cell_type": "code",
   "execution_count": null,
   "metadata": {},
   "outputs": [],
   "source": []
  }
 ],
 "metadata": {
  "accelerator": "GPU",
  "colab": {
   "name": "CIFAR-10 All-CNN.ipynb",
   "provenance": []
  },
  "kernelspec": {
   "display_name": "Python 3 (ipykernel)",
   "language": "python",
   "name": "python3"
  },
  "language_info": {
   "codemirror_mode": {
    "name": "ipython",
    "version": 3
   },
   "file_extension": ".py",
   "mimetype": "text/x-python",
   "name": "python",
   "nbconvert_exporter": "python",
   "pygments_lexer": "ipython3",
   "version": "3.9.12"
  },
  "widgets": {
   "application/vnd.jupyter.widget-state+json": {
    "2d4be4ffe46e422abda47318c8e6ebc0": {
     "model_module": "@jupyter-widgets/controls",
     "model_module_version": "1.5.0",
     "model_name": "DescriptionStyleModel",
     "state": {
      "_model_module": "@jupyter-widgets/controls",
      "_model_module_version": "1.5.0",
      "_model_name": "DescriptionStyleModel",
      "_view_count": null,
      "_view_module": "@jupyter-widgets/base",
      "_view_module_version": "1.2.0",
      "_view_name": "StyleView",
      "description_width": ""
     }
    },
    "42169e65d8b348e1b7571bd857d35121": {
     "model_module": "@jupyter-widgets/controls",
     "model_module_version": "1.5.0",
     "model_name": "FloatProgressModel",
     "state": {
      "_dom_classes": [],
      "_model_module": "@jupyter-widgets/controls",
      "_model_module_version": "1.5.0",
      "_model_name": "FloatProgressModel",
      "_view_count": null,
      "_view_module": "@jupyter-widgets/controls",
      "_view_module_version": "1.5.0",
      "_view_name": "ProgressView",
      "bar_style": "success",
      "description": "",
      "description_tooltip": null,
      "layout": "IPY_MODEL_73044d7fc152463488f32f6c0cf4e687",
      "max": 170498071,
      "min": 0,
      "orientation": "horizontal",
      "style": "IPY_MODEL_791e02267eb84006a020029d40d3f037",
      "value": 170498071
     }
    },
    "5a57cf595789487991d2160c2c756e16": {
     "model_module": "@jupyter-widgets/controls",
     "model_module_version": "1.5.0",
     "model_name": "HTMLModel",
     "state": {
      "_dom_classes": [],
      "_model_module": "@jupyter-widgets/controls",
      "_model_module_version": "1.5.0",
      "_model_name": "HTMLModel",
      "_view_count": null,
      "_view_module": "@jupyter-widgets/controls",
      "_view_module_version": "1.5.0",
      "_view_name": "HTMLView",
      "description": "",
      "description_tooltip": null,
      "layout": "IPY_MODEL_fb92c28c2ebe4b63ab23b1aa36fe0ff3",
      "placeholder": "​",
      "style": "IPY_MODEL_2d4be4ffe46e422abda47318c8e6ebc0",
      "value": ""
     }
    },
    "73044d7fc152463488f32f6c0cf4e687": {
     "model_module": "@jupyter-widgets/base",
     "model_module_version": "1.2.0",
     "model_name": "LayoutModel",
     "state": {
      "_model_module": "@jupyter-widgets/base",
      "_model_module_version": "1.2.0",
      "_model_name": "LayoutModel",
      "_view_count": null,
      "_view_module": "@jupyter-widgets/base",
      "_view_module_version": "1.2.0",
      "_view_name": "LayoutView",
      "align_content": null,
      "align_items": null,
      "align_self": null,
      "border": null,
      "bottom": null,
      "display": null,
      "flex": null,
      "flex_flow": null,
      "grid_area": null,
      "grid_auto_columns": null,
      "grid_auto_flow": null,
      "grid_auto_rows": null,
      "grid_column": null,
      "grid_gap": null,
      "grid_row": null,
      "grid_template_areas": null,
      "grid_template_columns": null,
      "grid_template_rows": null,
      "height": null,
      "justify_content": null,
      "justify_items": null,
      "left": null,
      "margin": null,
      "max_height": null,
      "max_width": null,
      "min_height": null,
      "min_width": null,
      "object_fit": null,
      "object_position": null,
      "order": null,
      "overflow": null,
      "overflow_x": null,
      "overflow_y": null,
      "padding": null,
      "right": null,
      "top": null,
      "visibility": null,
      "width": null
     }
    },
    "791e02267eb84006a020029d40d3f037": {
     "model_module": "@jupyter-widgets/controls",
     "model_module_version": "1.5.0",
     "model_name": "ProgressStyleModel",
     "state": {
      "_model_module": "@jupyter-widgets/controls",
      "_model_module_version": "1.5.0",
      "_model_name": "ProgressStyleModel",
      "_view_count": null,
      "_view_module": "@jupyter-widgets/base",
      "_view_module_version": "1.2.0",
      "_view_name": "StyleView",
      "bar_color": null,
      "description_width": ""
     }
    },
    "7d8c521b1e93440fa382f3205688df4c": {
     "model_module": "@jupyter-widgets/controls",
     "model_module_version": "1.5.0",
     "model_name": "HTMLModel",
     "state": {
      "_dom_classes": [],
      "_model_module": "@jupyter-widgets/controls",
      "_model_module_version": "1.5.0",
      "_model_name": "HTMLModel",
      "_view_count": null,
      "_view_module": "@jupyter-widgets/controls",
      "_view_module_version": "1.5.0",
      "_view_name": "HTMLView",
      "description": "",
      "description_tooltip": null,
      "layout": "IPY_MODEL_f858fcc0d16f459087577041d8af7a81",
      "placeholder": "​",
      "style": "IPY_MODEL_fcb12b772f9840b4b783ab83d65fc476",
      "value": " 170499072/? [00:06&lt;00:00, 32933844.61it/s]"
     }
    },
    "91e0cb15346342ef803ab724927a5045": {
     "model_module": "@jupyter-widgets/base",
     "model_module_version": "1.2.0",
     "model_name": "LayoutModel",
     "state": {
      "_model_module": "@jupyter-widgets/base",
      "_model_module_version": "1.2.0",
      "_model_name": "LayoutModel",
      "_view_count": null,
      "_view_module": "@jupyter-widgets/base",
      "_view_module_version": "1.2.0",
      "_view_name": "LayoutView",
      "align_content": null,
      "align_items": null,
      "align_self": null,
      "border": null,
      "bottom": null,
      "display": null,
      "flex": null,
      "flex_flow": null,
      "grid_area": null,
      "grid_auto_columns": null,
      "grid_auto_flow": null,
      "grid_auto_rows": null,
      "grid_column": null,
      "grid_gap": null,
      "grid_row": null,
      "grid_template_areas": null,
      "grid_template_columns": null,
      "grid_template_rows": null,
      "height": null,
      "justify_content": null,
      "justify_items": null,
      "left": null,
      "margin": null,
      "max_height": null,
      "max_width": null,
      "min_height": null,
      "min_width": null,
      "object_fit": null,
      "object_position": null,
      "order": null,
      "overflow": null,
      "overflow_x": null,
      "overflow_y": null,
      "padding": null,
      "right": null,
      "top": null,
      "visibility": null,
      "width": null
     }
    },
    "ebe265266f174d1cbee860e8ba4681d6": {
     "model_module": "@jupyter-widgets/controls",
     "model_module_version": "1.5.0",
     "model_name": "HBoxModel",
     "state": {
      "_dom_classes": [],
      "_model_module": "@jupyter-widgets/controls",
      "_model_module_version": "1.5.0",
      "_model_name": "HBoxModel",
      "_view_count": null,
      "_view_module": "@jupyter-widgets/controls",
      "_view_module_version": "1.5.0",
      "_view_name": "HBoxView",
      "box_style": "",
      "children": [
       "IPY_MODEL_5a57cf595789487991d2160c2c756e16",
       "IPY_MODEL_42169e65d8b348e1b7571bd857d35121",
       "IPY_MODEL_7d8c521b1e93440fa382f3205688df4c"
      ],
      "layout": "IPY_MODEL_91e0cb15346342ef803ab724927a5045"
     }
    },
    "f858fcc0d16f459087577041d8af7a81": {
     "model_module": "@jupyter-widgets/base",
     "model_module_version": "1.2.0",
     "model_name": "LayoutModel",
     "state": {
      "_model_module": "@jupyter-widgets/base",
      "_model_module_version": "1.2.0",
      "_model_name": "LayoutModel",
      "_view_count": null,
      "_view_module": "@jupyter-widgets/base",
      "_view_module_version": "1.2.0",
      "_view_name": "LayoutView",
      "align_content": null,
      "align_items": null,
      "align_self": null,
      "border": null,
      "bottom": null,
      "display": null,
      "flex": null,
      "flex_flow": null,
      "grid_area": null,
      "grid_auto_columns": null,
      "grid_auto_flow": null,
      "grid_auto_rows": null,
      "grid_column": null,
      "grid_gap": null,
      "grid_row": null,
      "grid_template_areas": null,
      "grid_template_columns": null,
      "grid_template_rows": null,
      "height": null,
      "justify_content": null,
      "justify_items": null,
      "left": null,
      "margin": null,
      "max_height": null,
      "max_width": null,
      "min_height": null,
      "min_width": null,
      "object_fit": null,
      "object_position": null,
      "order": null,
      "overflow": null,
      "overflow_x": null,
      "overflow_y": null,
      "padding": null,
      "right": null,
      "top": null,
      "visibility": null,
      "width": null
     }
    },
    "fb92c28c2ebe4b63ab23b1aa36fe0ff3": {
     "model_module": "@jupyter-widgets/base",
     "model_module_version": "1.2.0",
     "model_name": "LayoutModel",
     "state": {
      "_model_module": "@jupyter-widgets/base",
      "_model_module_version": "1.2.0",
      "_model_name": "LayoutModel",
      "_view_count": null,
      "_view_module": "@jupyter-widgets/base",
      "_view_module_version": "1.2.0",
      "_view_name": "LayoutView",
      "align_content": null,
      "align_items": null,
      "align_self": null,
      "border": null,
      "bottom": null,
      "display": null,
      "flex": null,
      "flex_flow": null,
      "grid_area": null,
      "grid_auto_columns": null,
      "grid_auto_flow": null,
      "grid_auto_rows": null,
      "grid_column": null,
      "grid_gap": null,
      "grid_row": null,
      "grid_template_areas": null,
      "grid_template_columns": null,
      "grid_template_rows": null,
      "height": null,
      "justify_content": null,
      "justify_items": null,
      "left": null,
      "margin": null,
      "max_height": null,
      "max_width": null,
      "min_height": null,
      "min_width": null,
      "object_fit": null,
      "object_position": null,
      "order": null,
      "overflow": null,
      "overflow_x": null,
      "overflow_y": null,
      "padding": null,
      "right": null,
      "top": null,
      "visibility": null,
      "width": null
     }
    },
    "fcb12b772f9840b4b783ab83d65fc476": {
     "model_module": "@jupyter-widgets/controls",
     "model_module_version": "1.5.0",
     "model_name": "DescriptionStyleModel",
     "state": {
      "_model_module": "@jupyter-widgets/controls",
      "_model_module_version": "1.5.0",
      "_model_name": "DescriptionStyleModel",
      "_view_count": null,
      "_view_module": "@jupyter-widgets/base",
      "_view_module_version": "1.2.0",
      "_view_name": "StyleView",
      "description_width": ""
     }
    }
   }
  }
 },
 "nbformat": 4,
 "nbformat_minor": 1
}
